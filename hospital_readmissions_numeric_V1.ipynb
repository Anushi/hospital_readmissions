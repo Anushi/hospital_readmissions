{
 "cells": [
  {
   "cell_type": "markdown",
   "metadata": {},
   "source": [
    "# SYD DAT 4 Project : Hospital Readmissions prediction\n",
    "\n",
    "### Overview \n",
    "\n",
    "I had an opportunity to work as a software engineer at Vanderbilt University Medical Center,US where I was involved in biomedical research projects. It is very gratifying as a computer science person to help solve interesting and challenging health care problems, which is why I choose this project.\n",
    "\n",
    "Hospital readmission means when a patient is re-admitted to a hospital within short period(usually 28/30 days)after first time or initial discharge. Such readmissions are major health care concern for most countries like US, UK, Australia and many others. This leads to increased wait times, increased medical errors resulting in risking patient safety and unncessary deaths. High readmission rate is infact an indicator of poor quality care of the hospital. It also puts huge monetary burden on the hospitals as well as the government. In this project, I want to identify patients who are likely to be readmitted to the hospital. By doing this, proper care and management of such patients can be planned by their care providers.\n",
    "\n",
    "### Goal(s) : \n",
    "Predict if a patient will be readmitted to the hospital or not?\n",
    "\n",
    "### Data set used : \n",
    "\n",
    "In order to achieve the above goal(s), I need a hospital data set that has records of all hospitalizations entries for its patients for certain number of years. It should contain information like why the patients were admitted, which department they were admitted for, how many times they were admitted, what medications they were on, what lab tests were conducted, how many days they stayed in hospital, vitals signs like heights/weights, age, race, blood pressure, smoking status, their electronic medical records, billing records, genetics data, etc.\n",
    "\n",
    "Of course, it's hard to obtain such a heterogeneous dataset which is publicly available as patient data are very confidential. Though there are quite a few data sets that contain substantial information and after going through some of them, I decided to use \"Diabetes 130-US hospitals for years 1999-2008 Data Set\".\n",
    "\n",
    "This is a public available database by Center for Clinical and Translational Research, Virginia Commonwealth University. This data is a de-identified abstract of the Health Facts database (Cerner Corporation, Kansas City, MO). It contains 10 years of diabetes patients data across 130 US hospitals.\n",
    "\n",
    "http://archive.ics.uci.edu/ml/datasets/Diabetes+130-US+hospitals+for+years+1999-2008\n",
    "\n",
    "### Summary of data : \n",
    "\n",
    "From the below python code, following observations are made :-\n",
    " * There are 50 features and 101766 observations(hospitalizations). \n",
    " \n",
    " \n",
    " * Each row in dataframe represents one hospital admission. On an average, there are 5 hospitalizations for each patient (patient_nbr is the de-identifed patient ID).\n",
    " \n",
    " \n",
    " * In the dataset, \"readmitted\" is the target varible with three classes :\n",
    " \n",
    " NO means never readmitted (~54% of total dataset)\n",
    " \n",
    " &lt;30 means readmitted within 30 days (~11% of total dataset)\n",
    " \n",
    " &gt;30 means readmitted after 30 days (~35% of total dataset)\n",
    "\n",
    "\n",
    " * To start with a simple binary classification model, I am grouping &lt;30 and &gt;30 classes of readmitted target varible into one class \"1\", which means the patient is readmitted anytime. And class NO is \"0\" means patient is never readmitted. Also this gives even distribution between binary classes. \n",
    " \n",
    " \n",
    " * Several patients have multiple hospitalizations, so I have used only the first admission and predict whether they will be re-admitted or not. This gives 71518 unique patient hospitalizations.\n",
    " \n",
    " \n",
    " * Numeric features are : time_in_hospital, num_medications,num_lab_procedures, num_procedures, number_outpatient, number_inpatient, number_diagnoses. \n",
    "\n",
    "\n",
    " * The average amount of time spent(time_in_hospital) in a hospital is 4 days and there is a good variation in this feature ranging from 1 day to 14 days.\n",
    " \n",
    " \n",
    " * Number of lab procedures conducted during the stay is on an average 43, and it ranges from 1 to 132.\n",
    " \n",
    " \n",
    " * The average number of medications administered is 16 with minimum 1 and maximum of 81 medications.\n",
    " \n",
    " \n",
    " * Many features have non-numeric values, e.g.: race, gender, age is in range, medications like citoglipton, insulin, diag_1, diag_2, diag_3, etc,. So need to transform them.\n",
    " \n",
    " \n",
    " * Weight feature has 97% data missing, so I will not include it. I am not sure if it makes sense to impute such large missing data. May be better off by excluding that feature for the time being.\n",
    " \n",
    "\n",
    "### Modelling techniques : \n",
    "\n",
    "* As of now I have used only numeric features for classification and used logistic regression, regularized logistic regression and decision trees methods. \n",
    "\n",
    "\n",
    "* My next step is to transform non-numeric features into categorical(nominal) values and add them into the models. Some them I think are crucial.\n",
    "\n",
    "\n",
    "* Try out other models like KNN classfication, random forests, SVM, etc.\n",
    "\n",
    "\n",
    "* Question : Several non-numeric features have more than 3 categories. Does it make sense to binarize them all to be used in classic logistic regression? Or better off using models that would accept categorical features without binarizing them?\n",
    "\n",
    "### Visualizations : \n",
    "\n",
    "Although the main goal of the project is to use a modelling technique to predict patient readmission, but if time permits I would to like make some dashboard so that hospitals or clinicians can use to visualize data for their patients.\n",
    "\n",
    "\n",
    "\n",
    "\n",
    "\n",
    "\n"
   ]
  },
  {
   "cell_type": "code",
   "execution_count": 1,
   "metadata": {
    "collapsed": true
   },
   "outputs": [],
   "source": [
    "%matplotlib inline\n",
    "\n",
    "import pandas as pd\n",
    "import numpy as np\n",
    "import matplotlib.pyplot as plt\n",
    "plt.style.use('ggplot') # This styles the graphs in a nicer format"
   ]
  },
  {
   "cell_type": "code",
   "execution_count": 2,
   "metadata": {
    "collapsed": true
   },
   "outputs": [],
   "source": [
    "# read diabetic_data.csv into a DataFrame called 'hospital_set'\n",
    "hospital_set = pd.read_table('dataset_diabetes/diabetic_data.csv', sep=',')"
   ]
  },
  {
   "cell_type": "code",
   "execution_count": 3,
   "metadata": {
    "collapsed": false
   },
   "outputs": [
    {
     "data": {
      "text/html": [
       "<div>\n",
       "<table border=\"1\" class=\"dataframe\">\n",
       "  <thead>\n",
       "    <tr style=\"text-align: right;\">\n",
       "      <th></th>\n",
       "      <th>encounter_id</th>\n",
       "      <th>patient_nbr</th>\n",
       "      <th>race</th>\n",
       "      <th>gender</th>\n",
       "      <th>age</th>\n",
       "      <th>weight</th>\n",
       "      <th>admission_type_id</th>\n",
       "      <th>discharge_disposition_id</th>\n",
       "      <th>admission_source_id</th>\n",
       "      <th>time_in_hospital</th>\n",
       "      <th>...</th>\n",
       "      <th>citoglipton</th>\n",
       "      <th>insulin</th>\n",
       "      <th>glyburide-metformin</th>\n",
       "      <th>glipizide-metformin</th>\n",
       "      <th>glimepiride-pioglitazone</th>\n",
       "      <th>metformin-rosiglitazone</th>\n",
       "      <th>metformin-pioglitazone</th>\n",
       "      <th>change</th>\n",
       "      <th>diabetesMed</th>\n",
       "      <th>readmitted</th>\n",
       "    </tr>\n",
       "  </thead>\n",
       "  <tbody>\n",
       "    <tr>\n",
       "      <th>0</th>\n",
       "      <td>2278392</td>\n",
       "      <td>8222157</td>\n",
       "      <td>Caucasian</td>\n",
       "      <td>Female</td>\n",
       "      <td>[0-10)</td>\n",
       "      <td>?</td>\n",
       "      <td>6</td>\n",
       "      <td>25</td>\n",
       "      <td>1</td>\n",
       "      <td>1</td>\n",
       "      <td>...</td>\n",
       "      <td>No</td>\n",
       "      <td>No</td>\n",
       "      <td>No</td>\n",
       "      <td>No</td>\n",
       "      <td>No</td>\n",
       "      <td>No</td>\n",
       "      <td>No</td>\n",
       "      <td>No</td>\n",
       "      <td>No</td>\n",
       "      <td>NO</td>\n",
       "    </tr>\n",
       "    <tr>\n",
       "      <th>1</th>\n",
       "      <td>149190</td>\n",
       "      <td>55629189</td>\n",
       "      <td>Caucasian</td>\n",
       "      <td>Female</td>\n",
       "      <td>[10-20)</td>\n",
       "      <td>?</td>\n",
       "      <td>1</td>\n",
       "      <td>1</td>\n",
       "      <td>7</td>\n",
       "      <td>3</td>\n",
       "      <td>...</td>\n",
       "      <td>No</td>\n",
       "      <td>Up</td>\n",
       "      <td>No</td>\n",
       "      <td>No</td>\n",
       "      <td>No</td>\n",
       "      <td>No</td>\n",
       "      <td>No</td>\n",
       "      <td>Ch</td>\n",
       "      <td>Yes</td>\n",
       "      <td>&gt;30</td>\n",
       "    </tr>\n",
       "    <tr>\n",
       "      <th>2</th>\n",
       "      <td>64410</td>\n",
       "      <td>86047875</td>\n",
       "      <td>AfricanAmerican</td>\n",
       "      <td>Female</td>\n",
       "      <td>[20-30)</td>\n",
       "      <td>?</td>\n",
       "      <td>1</td>\n",
       "      <td>1</td>\n",
       "      <td>7</td>\n",
       "      <td>2</td>\n",
       "      <td>...</td>\n",
       "      <td>No</td>\n",
       "      <td>No</td>\n",
       "      <td>No</td>\n",
       "      <td>No</td>\n",
       "      <td>No</td>\n",
       "      <td>No</td>\n",
       "      <td>No</td>\n",
       "      <td>No</td>\n",
       "      <td>Yes</td>\n",
       "      <td>NO</td>\n",
       "    </tr>\n",
       "    <tr>\n",
       "      <th>3</th>\n",
       "      <td>500364</td>\n",
       "      <td>82442376</td>\n",
       "      <td>Caucasian</td>\n",
       "      <td>Male</td>\n",
       "      <td>[30-40)</td>\n",
       "      <td>?</td>\n",
       "      <td>1</td>\n",
       "      <td>1</td>\n",
       "      <td>7</td>\n",
       "      <td>2</td>\n",
       "      <td>...</td>\n",
       "      <td>No</td>\n",
       "      <td>Up</td>\n",
       "      <td>No</td>\n",
       "      <td>No</td>\n",
       "      <td>No</td>\n",
       "      <td>No</td>\n",
       "      <td>No</td>\n",
       "      <td>Ch</td>\n",
       "      <td>Yes</td>\n",
       "      <td>NO</td>\n",
       "    </tr>\n",
       "    <tr>\n",
       "      <th>4</th>\n",
       "      <td>16680</td>\n",
       "      <td>42519267</td>\n",
       "      <td>Caucasian</td>\n",
       "      <td>Male</td>\n",
       "      <td>[40-50)</td>\n",
       "      <td>?</td>\n",
       "      <td>1</td>\n",
       "      <td>1</td>\n",
       "      <td>7</td>\n",
       "      <td>1</td>\n",
       "      <td>...</td>\n",
       "      <td>No</td>\n",
       "      <td>Steady</td>\n",
       "      <td>No</td>\n",
       "      <td>No</td>\n",
       "      <td>No</td>\n",
       "      <td>No</td>\n",
       "      <td>No</td>\n",
       "      <td>Ch</td>\n",
       "      <td>Yes</td>\n",
       "      <td>NO</td>\n",
       "    </tr>\n",
       "  </tbody>\n",
       "</table>\n",
       "<p>5 rows × 50 columns</p>\n",
       "</div>"
      ],
      "text/plain": [
       "   encounter_id  patient_nbr             race  gender      age weight  \\\n",
       "0       2278392      8222157        Caucasian  Female   [0-10)      ?   \n",
       "1        149190     55629189        Caucasian  Female  [10-20)      ?   \n",
       "2         64410     86047875  AfricanAmerican  Female  [20-30)      ?   \n",
       "3        500364     82442376        Caucasian    Male  [30-40)      ?   \n",
       "4         16680     42519267        Caucasian    Male  [40-50)      ?   \n",
       "\n",
       "   admission_type_id  discharge_disposition_id  admission_source_id  \\\n",
       "0                  6                        25                    1   \n",
       "1                  1                         1                    7   \n",
       "2                  1                         1                    7   \n",
       "3                  1                         1                    7   \n",
       "4                  1                         1                    7   \n",
       "\n",
       "   time_in_hospital    ...     citoglipton insulin  glyburide-metformin  \\\n",
       "0                 1    ...              No      No                   No   \n",
       "1                 3    ...              No      Up                   No   \n",
       "2                 2    ...              No      No                   No   \n",
       "3                 2    ...              No      Up                   No   \n",
       "4                 1    ...              No  Steady                   No   \n",
       "\n",
       "   glipizide-metformin  glimepiride-pioglitazone  metformin-rosiglitazone  \\\n",
       "0                   No                        No                       No   \n",
       "1                   No                        No                       No   \n",
       "2                   No                        No                       No   \n",
       "3                   No                        No                       No   \n",
       "4                   No                        No                       No   \n",
       "\n",
       "   metformin-pioglitazone  change diabetesMed readmitted  \n",
       "0                      No      No          No         NO  \n",
       "1                      No      Ch         Yes        >30  \n",
       "2                      No      No         Yes         NO  \n",
       "3                      No      Ch         Yes         NO  \n",
       "4                      No      Ch         Yes         NO  \n",
       "\n",
       "[5 rows x 50 columns]"
      ]
     },
     "execution_count": 3,
     "metadata": {},
     "output_type": "execute_result"
    }
   ],
   "source": [
    "hospital_set.head()"
   ]
  },
  {
   "cell_type": "code",
   "execution_count": 4,
   "metadata": {
    "collapsed": false
   },
   "outputs": [
    {
     "data": {
      "text/plain": [
       "(101766, 50)"
      ]
     },
     "execution_count": 4,
     "metadata": {},
     "output_type": "execute_result"
    }
   ],
   "source": [
    "# examine the default index, data types, and shape\n",
    "#hospital_set.index\n",
    "#hospital_set.dtypes\n",
    "hospital_set.shape\n",
    " "
   ]
  },
  {
   "cell_type": "code",
   "execution_count": 5,
   "metadata": {
    "collapsed": false
   },
   "outputs": [
    {
     "data": {
      "text/html": [
       "<div>\n",
       "<table border=\"1\" class=\"dataframe\">\n",
       "  <thead>\n",
       "    <tr style=\"text-align: right;\">\n",
       "      <th></th>\n",
       "      <th>encounter_id</th>\n",
       "      <th>patient_nbr</th>\n",
       "      <th>admission_type_id</th>\n",
       "      <th>discharge_disposition_id</th>\n",
       "      <th>admission_source_id</th>\n",
       "      <th>time_in_hospital</th>\n",
       "      <th>num_lab_procedures</th>\n",
       "      <th>num_procedures</th>\n",
       "      <th>num_medications</th>\n",
       "      <th>number_outpatient</th>\n",
       "      <th>number_emergency</th>\n",
       "      <th>number_inpatient</th>\n",
       "      <th>number_diagnoses</th>\n",
       "    </tr>\n",
       "  </thead>\n",
       "  <tbody>\n",
       "    <tr>\n",
       "      <th>count</th>\n",
       "      <td>1.017660e+05</td>\n",
       "      <td>1.017660e+05</td>\n",
       "      <td>101766.000000</td>\n",
       "      <td>101766.000000</td>\n",
       "      <td>101766.000000</td>\n",
       "      <td>101766.000000</td>\n",
       "      <td>101766.000000</td>\n",
       "      <td>101766.000000</td>\n",
       "      <td>101766.000000</td>\n",
       "      <td>101766.000000</td>\n",
       "      <td>101766.000000</td>\n",
       "      <td>101766.000000</td>\n",
       "      <td>101766.000000</td>\n",
       "    </tr>\n",
       "    <tr>\n",
       "      <th>mean</th>\n",
       "      <td>1.652016e+08</td>\n",
       "      <td>5.433040e+07</td>\n",
       "      <td>2.024006</td>\n",
       "      <td>3.715642</td>\n",
       "      <td>5.754437</td>\n",
       "      <td>4.395987</td>\n",
       "      <td>43.095641</td>\n",
       "      <td>1.339730</td>\n",
       "      <td>16.021844</td>\n",
       "      <td>0.369357</td>\n",
       "      <td>0.197836</td>\n",
       "      <td>0.635566</td>\n",
       "      <td>7.422607</td>\n",
       "    </tr>\n",
       "    <tr>\n",
       "      <th>std</th>\n",
       "      <td>1.026403e+08</td>\n",
       "      <td>3.869636e+07</td>\n",
       "      <td>1.445403</td>\n",
       "      <td>5.280166</td>\n",
       "      <td>4.064081</td>\n",
       "      <td>2.985108</td>\n",
       "      <td>19.674362</td>\n",
       "      <td>1.705807</td>\n",
       "      <td>8.127566</td>\n",
       "      <td>1.267265</td>\n",
       "      <td>0.930472</td>\n",
       "      <td>1.262863</td>\n",
       "      <td>1.933600</td>\n",
       "    </tr>\n",
       "    <tr>\n",
       "      <th>min</th>\n",
       "      <td>1.252200e+04</td>\n",
       "      <td>1.350000e+02</td>\n",
       "      <td>1.000000</td>\n",
       "      <td>1.000000</td>\n",
       "      <td>1.000000</td>\n",
       "      <td>1.000000</td>\n",
       "      <td>1.000000</td>\n",
       "      <td>0.000000</td>\n",
       "      <td>1.000000</td>\n",
       "      <td>0.000000</td>\n",
       "      <td>0.000000</td>\n",
       "      <td>0.000000</td>\n",
       "      <td>1.000000</td>\n",
       "    </tr>\n",
       "    <tr>\n",
       "      <th>25%</th>\n",
       "      <td>8.496119e+07</td>\n",
       "      <td>2.341322e+07</td>\n",
       "      <td>1.000000</td>\n",
       "      <td>1.000000</td>\n",
       "      <td>1.000000</td>\n",
       "      <td>2.000000</td>\n",
       "      <td>31.000000</td>\n",
       "      <td>0.000000</td>\n",
       "      <td>10.000000</td>\n",
       "      <td>0.000000</td>\n",
       "      <td>0.000000</td>\n",
       "      <td>0.000000</td>\n",
       "      <td>6.000000</td>\n",
       "    </tr>\n",
       "    <tr>\n",
       "      <th>50%</th>\n",
       "      <td>1.523890e+08</td>\n",
       "      <td>4.550514e+07</td>\n",
       "      <td>1.000000</td>\n",
       "      <td>1.000000</td>\n",
       "      <td>7.000000</td>\n",
       "      <td>4.000000</td>\n",
       "      <td>44.000000</td>\n",
       "      <td>1.000000</td>\n",
       "      <td>15.000000</td>\n",
       "      <td>0.000000</td>\n",
       "      <td>0.000000</td>\n",
       "      <td>0.000000</td>\n",
       "      <td>8.000000</td>\n",
       "    </tr>\n",
       "    <tr>\n",
       "      <th>75%</th>\n",
       "      <td>2.302709e+08</td>\n",
       "      <td>8.754595e+07</td>\n",
       "      <td>3.000000</td>\n",
       "      <td>4.000000</td>\n",
       "      <td>7.000000</td>\n",
       "      <td>6.000000</td>\n",
       "      <td>57.000000</td>\n",
       "      <td>2.000000</td>\n",
       "      <td>20.000000</td>\n",
       "      <td>0.000000</td>\n",
       "      <td>0.000000</td>\n",
       "      <td>1.000000</td>\n",
       "      <td>9.000000</td>\n",
       "    </tr>\n",
       "    <tr>\n",
       "      <th>max</th>\n",
       "      <td>4.438672e+08</td>\n",
       "      <td>1.895026e+08</td>\n",
       "      <td>8.000000</td>\n",
       "      <td>28.000000</td>\n",
       "      <td>25.000000</td>\n",
       "      <td>14.000000</td>\n",
       "      <td>132.000000</td>\n",
       "      <td>6.000000</td>\n",
       "      <td>81.000000</td>\n",
       "      <td>42.000000</td>\n",
       "      <td>76.000000</td>\n",
       "      <td>21.000000</td>\n",
       "      <td>16.000000</td>\n",
       "    </tr>\n",
       "  </tbody>\n",
       "</table>\n",
       "</div>"
      ],
      "text/plain": [
       "       encounter_id   patient_nbr  admission_type_id  \\\n",
       "count  1.017660e+05  1.017660e+05      101766.000000   \n",
       "mean   1.652016e+08  5.433040e+07           2.024006   \n",
       "std    1.026403e+08  3.869636e+07           1.445403   \n",
       "min    1.252200e+04  1.350000e+02           1.000000   \n",
       "25%    8.496119e+07  2.341322e+07           1.000000   \n",
       "50%    1.523890e+08  4.550514e+07           1.000000   \n",
       "75%    2.302709e+08  8.754595e+07           3.000000   \n",
       "max    4.438672e+08  1.895026e+08           8.000000   \n",
       "\n",
       "       discharge_disposition_id  admission_source_id  time_in_hospital  \\\n",
       "count             101766.000000        101766.000000     101766.000000   \n",
       "mean                   3.715642             5.754437          4.395987   \n",
       "std                    5.280166             4.064081          2.985108   \n",
       "min                    1.000000             1.000000          1.000000   \n",
       "25%                    1.000000             1.000000          2.000000   \n",
       "50%                    1.000000             7.000000          4.000000   \n",
       "75%                    4.000000             7.000000          6.000000   \n",
       "max                   28.000000            25.000000         14.000000   \n",
       "\n",
       "       num_lab_procedures  num_procedures  num_medications  number_outpatient  \\\n",
       "count       101766.000000   101766.000000    101766.000000      101766.000000   \n",
       "mean            43.095641        1.339730        16.021844           0.369357   \n",
       "std             19.674362        1.705807         8.127566           1.267265   \n",
       "min              1.000000        0.000000         1.000000           0.000000   \n",
       "25%             31.000000        0.000000        10.000000           0.000000   \n",
       "50%             44.000000        1.000000        15.000000           0.000000   \n",
       "75%             57.000000        2.000000        20.000000           0.000000   \n",
       "max            132.000000        6.000000        81.000000          42.000000   \n",
       "\n",
       "       number_emergency  number_inpatient  number_diagnoses  \n",
       "count     101766.000000     101766.000000     101766.000000  \n",
       "mean           0.197836          0.635566          7.422607  \n",
       "std            0.930472          1.262863          1.933600  \n",
       "min            0.000000          0.000000          1.000000  \n",
       "25%            0.000000          0.000000          6.000000  \n",
       "50%            0.000000          0.000000          8.000000  \n",
       "75%            0.000000          1.000000          9.000000  \n",
       "max           76.000000         21.000000         16.000000  "
      ]
     },
     "execution_count": 5,
     "metadata": {},
     "output_type": "execute_result"
    }
   ],
   "source": [
    "hospital_set.describe() "
   ]
  },
  {
   "cell_type": "code",
   "execution_count": 6,
   "metadata": {
    "collapsed": false
   },
   "outputs": [
    {
     "data": {
      "text/plain": [
       "NO     54864\n",
       ">30    35545\n",
       "<30    11357\n",
       "Name: readmitted, dtype: int64"
      ]
     },
     "execution_count": 6,
     "metadata": {},
     "output_type": "execute_result"
    }
   ],
   "source": [
    "# Here \"readmitted\" is the target variable\n",
    "hospital_set.readmitted.value_counts()"
   ]
  },
  {
   "cell_type": "code",
   "execution_count": 7,
   "metadata": {
    "collapsed": false
   },
   "outputs": [
    {
     "data": {
      "text/plain": [
       "0    54864\n",
       "1    46902\n",
       "Name: readmitted, dtype: int64"
      ]
     },
     "execution_count": 7,
     "metadata": {},
     "output_type": "execute_result"
    }
   ],
   "source": [
    "# Transforming the \"readmitted\" variable into binary outcome. \n",
    "# NO = 0 (patients are not readmitted, it could be their first/initial admission)\n",
    "# >30 = 0 (patients admitted after 30 days are not called readmitted)\n",
    "# < 30 = 1 (patients admitted within 30 days are called readmitted)\n",
    "hospital_set['readmitted'] = hospital_set['readmitted'].map({ \"<30\" : 1, \">30\" : 1,\"NO\" : 0})\n",
    "hospital_set.readmitted.value_counts()\n",
    "\n"
   ]
  },
  {
   "cell_type": "code",
   "execution_count": 8,
   "metadata": {
    "collapsed": false
   },
   "outputs": [],
   "source": [
    "# TRANSFORMATIONS FOR CATEGORICAL VALUES : TBD\n"
   ]
  },
  {
   "cell_type": "code",
   "execution_count": 8,
   "metadata": {
    "collapsed": false,
    "scrolled": true
   },
   "outputs": [],
   "source": [
    "# Here many patients have multiple encounter ids (hospitalizations). \n",
    "# For predictions, I will just take the first encounter id as first admission and \n",
    "# predict whether the patient will be readmitted next time or not withing 30 days window.\n",
    "\n",
    "# Here I use group by function to group by the hospital_set for each patient \n",
    "# and then take minimum value for encounter id to get first admission for each patient.\n",
    "hospital_subset = hospital_set.loc[hospital_set.groupby(\"patient_nbr\")[\"encounter_id\"].idxmin()]\n"
   ]
  },
  {
   "cell_type": "code",
   "execution_count": 79,
   "metadata": {
    "collapsed": false
   },
   "outputs": [
    {
     "data": {
      "text/plain": [
       "(71518, 50)"
      ]
     },
     "execution_count": 79,
     "metadata": {},
     "output_type": "execute_result"
    }
   ],
   "source": [
    "hospital_subset.shape\n",
    "#hospital_subset.head()\n",
    "#hospital_subset.readmitted.value_counts()"
   ]
  },
  {
   "cell_type": "code",
   "execution_count": 10,
   "metadata": {
    "collapsed": false
   },
   "outputs": [
    {
     "data": {
      "text/html": [
       "<div>\n",
       "<table border=\"1\" class=\"dataframe\">\n",
       "  <thead>\n",
       "    <tr style=\"text-align: right;\">\n",
       "      <th></th>\n",
       "      <th>encounter_id</th>\n",
       "      <th>patient_nbr</th>\n",
       "      <th>admission_type_id</th>\n",
       "      <th>discharge_disposition_id</th>\n",
       "      <th>admission_source_id</th>\n",
       "      <th>time_in_hospital</th>\n",
       "      <th>num_lab_procedures</th>\n",
       "      <th>num_procedures</th>\n",
       "      <th>num_medications</th>\n",
       "      <th>number_outpatient</th>\n",
       "      <th>number_emergency</th>\n",
       "      <th>number_inpatient</th>\n",
       "      <th>number_diagnoses</th>\n",
       "      <th>readmitted</th>\n",
       "    </tr>\n",
       "  </thead>\n",
       "  <tbody>\n",
       "    <tr>\n",
       "      <th>encounter_id</th>\n",
       "      <td>1.000000</td>\n",
       "      <td>0.502034</td>\n",
       "      <td>-0.150258</td>\n",
       "      <td>-0.136536</td>\n",
       "      <td>-0.113674</td>\n",
       "      <td>-0.069457</td>\n",
       "      <td>-0.051946</td>\n",
       "      <td>-0.005310</td>\n",
       "      <td>0.056166</td>\n",
       "      <td>0.070958</td>\n",
       "      <td>0.051455</td>\n",
       "      <td>-0.041483</td>\n",
       "      <td>0.256566</td>\n",
       "      <td>-0.102402</td>\n",
       "    </tr>\n",
       "    <tr>\n",
       "      <th>patient_nbr</th>\n",
       "      <td>0.502034</td>\n",
       "      <td>1.000000</td>\n",
       "      <td>-0.010712</td>\n",
       "      <td>-0.136942</td>\n",
       "      <td>-0.019440</td>\n",
       "      <td>-0.017976</td>\n",
       "      <td>0.008597</td>\n",
       "      <td>-0.022938</td>\n",
       "      <td>0.015527</td>\n",
       "      <td>0.087480</td>\n",
       "      <td>0.056340</td>\n",
       "      <td>0.093525</td>\n",
       "      <td>0.228945</td>\n",
       "      <td>0.066821</td>\n",
       "    </tr>\n",
       "    <tr>\n",
       "      <th>admission_type_id</th>\n",
       "      <td>-0.150258</td>\n",
       "      <td>-0.010712</td>\n",
       "      <td>1.000000</td>\n",
       "      <td>0.088565</td>\n",
       "      <td>0.121644</td>\n",
       "      <td>-0.017477</td>\n",
       "      <td>-0.117187</td>\n",
       "      <td>0.132050</td>\n",
       "      <td>0.095376</td>\n",
       "      <td>0.038149</td>\n",
       "      <td>-0.017267</td>\n",
       "      <td>0.039090</td>\n",
       "      <td>-0.116886</td>\n",
       "      <td>0.020227</td>\n",
       "    </tr>\n",
       "    <tr>\n",
       "      <th>discharge_disposition_id</th>\n",
       "      <td>-0.136536</td>\n",
       "      <td>-0.136942</td>\n",
       "      <td>0.088565</td>\n",
       "      <td>1.000000</td>\n",
       "      <td>0.005202</td>\n",
       "      <td>0.163874</td>\n",
       "      <td>0.028224</td>\n",
       "      <td>0.021512</td>\n",
       "      <td>0.114623</td>\n",
       "      <td>-0.016582</td>\n",
       "      <td>-0.026477</td>\n",
       "      <td>-0.021484</td>\n",
       "      <td>0.048314</td>\n",
       "      <td>-0.008771</td>\n",
       "    </tr>\n",
       "    <tr>\n",
       "      <th>admission_source_id</th>\n",
       "      <td>-0.113674</td>\n",
       "      <td>-0.019440</td>\n",
       "      <td>0.121644</td>\n",
       "      <td>0.005202</td>\n",
       "      <td>1.000000</td>\n",
       "      <td>0.007097</td>\n",
       "      <td>0.089209</td>\n",
       "      <td>-0.127122</td>\n",
       "      <td>-0.058141</td>\n",
       "      <td>0.018547</td>\n",
       "      <td>0.056719</td>\n",
       "      <td>0.030090</td>\n",
       "      <td>0.066753</td>\n",
       "      <td>0.044072</td>\n",
       "    </tr>\n",
       "    <tr>\n",
       "      <th>time_in_hospital</th>\n",
       "      <td>-0.069457</td>\n",
       "      <td>-0.017976</td>\n",
       "      <td>-0.017477</td>\n",
       "      <td>0.163874</td>\n",
       "      <td>0.007097</td>\n",
       "      <td>1.000000</td>\n",
       "      <td>0.330146</td>\n",
       "      <td>0.188911</td>\n",
       "      <td>0.469426</td>\n",
       "      <td>-0.014984</td>\n",
       "      <td>-0.009805</td>\n",
       "      <td>0.063736</td>\n",
       "      <td>0.233338</td>\n",
       "      <td>0.059063</td>\n",
       "    </tr>\n",
       "    <tr>\n",
       "      <th>num_lab_procedures</th>\n",
       "      <td>-0.051946</td>\n",
       "      <td>0.008597</td>\n",
       "      <td>-0.117187</td>\n",
       "      <td>0.028224</td>\n",
       "      <td>0.089209</td>\n",
       "      <td>0.330146</td>\n",
       "      <td>1.000000</td>\n",
       "      <td>0.050072</td>\n",
       "      <td>0.261911</td>\n",
       "      <td>-0.006933</td>\n",
       "      <td>0.014091</td>\n",
       "      <td>0.080162</td>\n",
       "      <td>0.157574</td>\n",
       "      <td>0.045907</td>\n",
       "    </tr>\n",
       "    <tr>\n",
       "      <th>num_procedures</th>\n",
       "      <td>-0.005310</td>\n",
       "      <td>-0.022938</td>\n",
       "      <td>0.132050</td>\n",
       "      <td>0.021512</td>\n",
       "      <td>-0.127122</td>\n",
       "      <td>0.188911</td>\n",
       "      <td>0.050072</td>\n",
       "      <td>1.000000</td>\n",
       "      <td>0.403738</td>\n",
       "      <td>-0.018347</td>\n",
       "      <td>-0.035178</td>\n",
       "      <td>-0.023977</td>\n",
       "      <td>0.089153</td>\n",
       "      <td>-0.028032</td>\n",
       "    </tr>\n",
       "    <tr>\n",
       "      <th>num_medications</th>\n",
       "      <td>0.056166</td>\n",
       "      <td>0.015527</td>\n",
       "      <td>0.095376</td>\n",
       "      <td>0.114623</td>\n",
       "      <td>-0.058141</td>\n",
       "      <td>0.469426</td>\n",
       "      <td>0.261911</td>\n",
       "      <td>0.403738</td>\n",
       "      <td>1.000000</td>\n",
       "      <td>0.026183</td>\n",
       "      <td>0.002400</td>\n",
       "      <td>0.037487</td>\n",
       "      <td>0.259201</td>\n",
       "      <td>0.034145</td>\n",
       "    </tr>\n",
       "    <tr>\n",
       "      <th>number_outpatient</th>\n",
       "      <td>0.070958</td>\n",
       "      <td>0.087480</td>\n",
       "      <td>0.038149</td>\n",
       "      <td>-0.016582</td>\n",
       "      <td>0.018547</td>\n",
       "      <td>-0.014984</td>\n",
       "      <td>-0.006933</td>\n",
       "      <td>-0.018347</td>\n",
       "      <td>0.026183</td>\n",
       "      <td>1.000000</td>\n",
       "      <td>0.095002</td>\n",
       "      <td>0.068591</td>\n",
       "      <td>0.076612</td>\n",
       "      <td>0.064023</td>\n",
       "    </tr>\n",
       "    <tr>\n",
       "      <th>number_emergency</th>\n",
       "      <td>0.051455</td>\n",
       "      <td>0.056340</td>\n",
       "      <td>-0.017267</td>\n",
       "      <td>-0.026477</td>\n",
       "      <td>0.056719</td>\n",
       "      <td>-0.009805</td>\n",
       "      <td>0.014091</td>\n",
       "      <td>-0.035178</td>\n",
       "      <td>0.002400</td>\n",
       "      <td>0.095002</td>\n",
       "      <td>1.000000</td>\n",
       "      <td>0.146547</td>\n",
       "      <td>0.049239</td>\n",
       "      <td>0.076529</td>\n",
       "    </tr>\n",
       "    <tr>\n",
       "      <th>number_inpatient</th>\n",
       "      <td>-0.041483</td>\n",
       "      <td>0.093525</td>\n",
       "      <td>0.039090</td>\n",
       "      <td>-0.021484</td>\n",
       "      <td>0.030090</td>\n",
       "      <td>0.063736</td>\n",
       "      <td>0.080162</td>\n",
       "      <td>-0.023977</td>\n",
       "      <td>0.037487</td>\n",
       "      <td>0.068591</td>\n",
       "      <td>0.146547</td>\n",
       "      <td>1.000000</td>\n",
       "      <td>0.069151</td>\n",
       "      <td>0.141449</td>\n",
       "    </tr>\n",
       "    <tr>\n",
       "      <th>number_diagnoses</th>\n",
       "      <td>0.256566</td>\n",
       "      <td>0.228945</td>\n",
       "      <td>-0.116886</td>\n",
       "      <td>0.048314</td>\n",
       "      <td>0.066753</td>\n",
       "      <td>0.233338</td>\n",
       "      <td>0.157574</td>\n",
       "      <td>0.089153</td>\n",
       "      <td>0.259201</td>\n",
       "      <td>0.076612</td>\n",
       "      <td>0.049239</td>\n",
       "      <td>0.069151</td>\n",
       "      <td>1.000000</td>\n",
       "      <td>0.100585</td>\n",
       "    </tr>\n",
       "    <tr>\n",
       "      <th>readmitted</th>\n",
       "      <td>-0.102402</td>\n",
       "      <td>0.066821</td>\n",
       "      <td>0.020227</td>\n",
       "      <td>-0.008771</td>\n",
       "      <td>0.044072</td>\n",
       "      <td>0.059063</td>\n",
       "      <td>0.045907</td>\n",
       "      <td>-0.028032</td>\n",
       "      <td>0.034145</td>\n",
       "      <td>0.064023</td>\n",
       "      <td>0.076529</td>\n",
       "      <td>0.141449</td>\n",
       "      <td>0.100585</td>\n",
       "      <td>1.000000</td>\n",
       "    </tr>\n",
       "  </tbody>\n",
       "</table>\n",
       "</div>"
      ],
      "text/plain": [
       "                          encounter_id  patient_nbr  admission_type_id  \\\n",
       "encounter_id                  1.000000     0.502034          -0.150258   \n",
       "patient_nbr                   0.502034     1.000000          -0.010712   \n",
       "admission_type_id            -0.150258    -0.010712           1.000000   \n",
       "discharge_disposition_id     -0.136536    -0.136942           0.088565   \n",
       "admission_source_id          -0.113674    -0.019440           0.121644   \n",
       "time_in_hospital             -0.069457    -0.017976          -0.017477   \n",
       "num_lab_procedures           -0.051946     0.008597          -0.117187   \n",
       "num_procedures               -0.005310    -0.022938           0.132050   \n",
       "num_medications               0.056166     0.015527           0.095376   \n",
       "number_outpatient             0.070958     0.087480           0.038149   \n",
       "number_emergency              0.051455     0.056340          -0.017267   \n",
       "number_inpatient             -0.041483     0.093525           0.039090   \n",
       "number_diagnoses              0.256566     0.228945          -0.116886   \n",
       "readmitted                   -0.102402     0.066821           0.020227   \n",
       "\n",
       "                          discharge_disposition_id  admission_source_id  \\\n",
       "encounter_id                             -0.136536            -0.113674   \n",
       "patient_nbr                              -0.136942            -0.019440   \n",
       "admission_type_id                         0.088565             0.121644   \n",
       "discharge_disposition_id                  1.000000             0.005202   \n",
       "admission_source_id                       0.005202             1.000000   \n",
       "time_in_hospital                          0.163874             0.007097   \n",
       "num_lab_procedures                        0.028224             0.089209   \n",
       "num_procedures                            0.021512            -0.127122   \n",
       "num_medications                           0.114623            -0.058141   \n",
       "number_outpatient                        -0.016582             0.018547   \n",
       "number_emergency                         -0.026477             0.056719   \n",
       "number_inpatient                         -0.021484             0.030090   \n",
       "number_diagnoses                          0.048314             0.066753   \n",
       "readmitted                               -0.008771             0.044072   \n",
       "\n",
       "                          time_in_hospital  num_lab_procedures  \\\n",
       "encounter_id                     -0.069457           -0.051946   \n",
       "patient_nbr                      -0.017976            0.008597   \n",
       "admission_type_id                -0.017477           -0.117187   \n",
       "discharge_disposition_id          0.163874            0.028224   \n",
       "admission_source_id               0.007097            0.089209   \n",
       "time_in_hospital                  1.000000            0.330146   \n",
       "num_lab_procedures                0.330146            1.000000   \n",
       "num_procedures                    0.188911            0.050072   \n",
       "num_medications                   0.469426            0.261911   \n",
       "number_outpatient                -0.014984           -0.006933   \n",
       "number_emergency                 -0.009805            0.014091   \n",
       "number_inpatient                  0.063736            0.080162   \n",
       "number_diagnoses                  0.233338            0.157574   \n",
       "readmitted                        0.059063            0.045907   \n",
       "\n",
       "                          num_procedures  num_medications  number_outpatient  \\\n",
       "encounter_id                   -0.005310         0.056166           0.070958   \n",
       "patient_nbr                    -0.022938         0.015527           0.087480   \n",
       "admission_type_id               0.132050         0.095376           0.038149   \n",
       "discharge_disposition_id        0.021512         0.114623          -0.016582   \n",
       "admission_source_id            -0.127122        -0.058141           0.018547   \n",
       "time_in_hospital                0.188911         0.469426          -0.014984   \n",
       "num_lab_procedures              0.050072         0.261911          -0.006933   \n",
       "num_procedures                  1.000000         0.403738          -0.018347   \n",
       "num_medications                 0.403738         1.000000           0.026183   \n",
       "number_outpatient              -0.018347         0.026183           1.000000   \n",
       "number_emergency               -0.035178         0.002400           0.095002   \n",
       "number_inpatient               -0.023977         0.037487           0.068591   \n",
       "number_diagnoses                0.089153         0.259201           0.076612   \n",
       "readmitted                     -0.028032         0.034145           0.064023   \n",
       "\n",
       "                          number_emergency  number_inpatient  \\\n",
       "encounter_id                      0.051455         -0.041483   \n",
       "patient_nbr                       0.056340          0.093525   \n",
       "admission_type_id                -0.017267          0.039090   \n",
       "discharge_disposition_id         -0.026477         -0.021484   \n",
       "admission_source_id               0.056719          0.030090   \n",
       "time_in_hospital                 -0.009805          0.063736   \n",
       "num_lab_procedures                0.014091          0.080162   \n",
       "num_procedures                   -0.035178         -0.023977   \n",
       "num_medications                   0.002400          0.037487   \n",
       "number_outpatient                 0.095002          0.068591   \n",
       "number_emergency                  1.000000          0.146547   \n",
       "number_inpatient                  0.146547          1.000000   \n",
       "number_diagnoses                  0.049239          0.069151   \n",
       "readmitted                        0.076529          0.141449   \n",
       "\n",
       "                          number_diagnoses  readmitted  \n",
       "encounter_id                      0.256566   -0.102402  \n",
       "patient_nbr                       0.228945    0.066821  \n",
       "admission_type_id                -0.116886    0.020227  \n",
       "discharge_disposition_id          0.048314   -0.008771  \n",
       "admission_source_id               0.066753    0.044072  \n",
       "time_in_hospital                  0.233338    0.059063  \n",
       "num_lab_procedures                0.157574    0.045907  \n",
       "num_procedures                    0.089153   -0.028032  \n",
       "num_medications                   0.259201    0.034145  \n",
       "number_outpatient                 0.076612    0.064023  \n",
       "number_emergency                  0.049239    0.076529  \n",
       "number_inpatient                  0.069151    0.141449  \n",
       "number_diagnoses                  1.000000    0.100585  \n",
       "readmitted                        0.100585    1.000000  "
      ]
     },
     "execution_count": 10,
     "metadata": {},
     "output_type": "execute_result"
    }
   ],
   "source": [
    "# Look for any linear correlations in the data\n",
    "hospital_subset.corr()"
   ]
  },
  {
   "cell_type": "code",
   "execution_count": 11,
   "metadata": {
    "collapsed": true
   },
   "outputs": [],
   "source": [
    "# use numeric features to apply logistic regression\n",
    "\n",
    "feature_cols = ['time_in_hospital', 'num_medications','num_lab_procedures','num_procedures','number_outpatient','number_inpatient','number_diagnoses']\n",
    "\n",
    "X = hospital_subset[feature_cols]\n",
    "y = hospital_subset.readmitted"
   ]
  },
  {
   "cell_type": "code",
   "execution_count": 12,
   "metadata": {
    "collapsed": false,
    "scrolled": true
   },
   "outputs": [],
   "source": [
    "# Split the data into training and testing sets\n",
    "from sklearn.cross_validation import train_test_split\n",
    "X_train, X_test, y_train, y_test = train_test_split(X, y, random_state=1)"
   ]
  },
  {
   "cell_type": "code",
   "execution_count": 14,
   "metadata": {
    "collapsed": false
   },
   "outputs": [
    {
     "data": {
      "text/plain": [
       "[('time_in_hospital', 0.0275727750890533),\n",
       " ('num_medications', -0.00031476023722607686),\n",
       " ('num_lab_procedures', 0.0018493762229741049),\n",
       " ('num_procedures', -0.046840999789455162),\n",
       " ('number_outpatient', 0.095940174892903407),\n",
       " ('number_inpatient', 0.47750542496554943),\n",
       " ('number_diagnoses', 0.086850672810349888)]"
      ]
     },
     "execution_count": 14,
     "metadata": {},
     "output_type": "execute_result"
    }
   ],
   "source": [
    "# Fit a logistic regression model and examine the coefficients\n",
    "from sklearn.linear_model import LogisticRegression\n",
    "logreg = LogisticRegression()\n",
    "logreg.fit(X_train, y_train)\n",
    "zip(feature_cols, logreg.coef_[0])"
   ]
  },
  {
   "cell_type": "code",
   "execution_count": 80,
   "metadata": {
    "collapsed": false
   },
   "outputs": [
    {
     "name": "stdout",
     "output_type": "stream",
     "text": [
      "Accuracy (Simple logistic regression) = 0.622483221477\n",
      "ROC(Simple logistic regression) =  0.543076018942\n"
     ]
    }
   ],
   "source": [
    "# Make predictions on testing set and calculate accuracy\n",
    "y_pred_class = logreg.predict(X_test)\n",
    "from sklearn import metrics\n",
    "#print metrics.accuracy_score(y_test, y_pred_class)\n",
    "print 'Accuracy (Simple logistic regression) =', metrics.accuracy_score(y_test, y_pred_class)\n",
    "\n",
    "# Calculate the AUC metric\n",
    "#metrics.roc_auc_score(y_test, y_pred_class)\n",
    "print \"ROC(Simple logistic regression) = \",metrics.roc_auc_score(y_test, y_pred_class)"
   ]
  },
  {
   "cell_type": "code",
   "execution_count": 17,
   "metadata": {
    "collapsed": false
   },
   "outputs": [
    {
     "data": {
      "text/plain": [
       "array([[10046,   710],\n",
       "       [ 6040,  1084]])"
      ]
     },
     "execution_count": 17,
     "metadata": {},
     "output_type": "execute_result"
    }
   ],
   "source": [
    "# confusion matrix\n",
    "metrics.confusion_matrix(y_test, y_pred_class)"
   ]
  },
  {
   "cell_type": "code",
   "execution_count": 22,
   "metadata": {
    "collapsed": false
   },
   "outputs": [
    {
     "data": {
      "text/plain": [
       "0.15216170690623246"
      ]
     },
     "execution_count": 22,
     "metadata": {},
     "output_type": "execute_result"
    }
   ],
   "source": [
    "# calculate the sensitivity\n",
    "1084 / float(1084 + 6040)"
   ]
  },
  {
   "cell_type": "code",
   "execution_count": 23,
   "metadata": {
    "collapsed": false
   },
   "outputs": [
    {
     "data": {
      "text/plain": [
       "0.9339903309780587"
      ]
     },
     "execution_count": 23,
     "metadata": {},
     "output_type": "execute_result"
    }
   ],
   "source": [
    "# calculate the specificity\n",
    "10046 / float(10046 + 710)"
   ]
  },
  {
   "cell_type": "code",
   "execution_count": 19,
   "metadata": {
    "collapsed": false
   },
   "outputs": [
    {
     "name": "stdout",
     "output_type": "stream",
     "text": [
      "                 precision    recall  f1-score   support\n",
      "\n",
      " Readmission_NO       0.62      0.93      0.75     10756\n",
      "Readmission_YES       0.60      0.15      0.24      7124\n",
      "\n",
      "    avg / total       0.62      0.62      0.55     17880\n",
      "\n"
     ]
    }
   ],
   "source": [
    "from sklearn.metrics import classification_report\n",
    "target_names = ['Readmission_NO', 'Readmission_YES']\n",
    "print(classification_report(y_test, y_pred_class, target_names=target_names))"
   ]
  },
  {
   "cell_type": "code",
   "execution_count": 24,
   "metadata": {
    "collapsed": false
   },
   "outputs": [
    {
     "name": "stdout",
     "output_type": "stream",
     "text": [
      "[ 0.61173184  0.61592179  0.60614525  0.60335196  0.61871508  0.68296089\n",
      "  0.60195531  0.6103352   0.62150838  0.61871508  0.61452514  0.61173184\n",
      "  0.61731844  0.61312849  0.62988827  0.6103352   0.61871508  0.63128492\n",
      "  0.64664804  0.62150838  0.62011173  0.61592179  0.6075419   0.6103352\n",
      "  0.6075419   0.59776536  0.6047486   0.63268156  0.62849162  0.6075419\n",
      "  0.63128492  0.6452514   0.62430168  0.63356643  0.63636364  0.63076923\n",
      "  0.62237762  0.6013986   0.62517483  0.5972028   0.6         0.61118881\n",
      "  0.61958042  0.63076923  0.62657343  0.62517483  0.63776224  0.64615385\n",
      "  0.65734266  0.63496503  0.61818182  0.61398601  0.64615385  0.65454545\n",
      "  0.60979021  0.62517483  0.61258741  0.62237762  0.64615385  0.65454545\n",
      "  0.69230769  0.68671329  0.63356643  0.63916084  0.66293706  0.65594406\n",
      "  0.66293706  0.6         0.56643357  0.57062937  0.56083916  0.55664336\n",
      "  0.6         0.61678322  0.57902098  0.59020979  0.58461538  0.6041958\n",
      "  0.6027972   0.6027972   0.60839161  0.5972028   0.59300699  0.61538462\n",
      "  0.60559441  0.61904762  0.60504202  0.62745098  0.62464986  0.61204482\n",
      "  0.60084034  0.62885154  0.59243697  0.60644258  0.59243697  0.65266106\n",
      "  0.66106443  0.69047619  0.61904762  0.6162465 ]\n",
      "0.620166556578\n"
     ]
    }
   ],
   "source": [
    "# LOGISTIC REGRESSION CROSS VALIDAION \n",
    "from sklearn import metrics\n",
    "from sklearn.cross_validation import cross_val_score\n",
    "\n",
    "# evaluate the model using 10-fold cross-validation\n",
    "scores = cross_val_score(LogisticRegression(), X, y, scoring='accuracy', cv=100)\n",
    "print scores\n",
    "print scores.mean()"
   ]
  },
  {
   "cell_type": "code",
   "execution_count": 65,
   "metadata": {
    "collapsed": false
   },
   "outputs": [
    {
     "name": "stdout",
     "output_type": "stream",
     "text": [
      "Accuracy (L1 penalty) = 0.6225950783\n",
      "ROC(L1 penalty) =  0.543121591093\n"
     ]
    }
   ],
   "source": [
    "########## Logistic Regression With L1 Penalty ##########\n",
    "# logistic regression with L1 penalty (C must be positive, smaller means more regularization)\n",
    "logreg_l1 = LogisticRegression(C=0.1, penalty='l1')\n",
    "logreg_l1.fit(X_train, y_train)\n",
    "logreg_l1.coef_\n",
    "y_pred_l1 = logreg_l1.predict(X_test)\n",
    "\n",
    "# Access accuracy\n",
    "print 'Accuracy (L1 penalty) =', metrics.accuracy_score(y_test, y_pred_l1)\n",
    "print \"ROC(L1 penalty) = \",metrics.roc_auc_score(y_test, y_pred_l1)"
   ]
  },
  {
   "cell_type": "code",
   "execution_count": 66,
   "metadata": {
    "collapsed": false
   },
   "outputs": [
    {
     "name": "stdout",
     "output_type": "stream",
     "text": [
      "Accuracy (L2 penalty) = 0.6225950783\n",
      "ROC(L2 penalty) =  0.543168990307\n"
     ]
    }
   ],
   "source": [
    "########## Logistic Regression With L2 Penalty ##########\n",
    "# logistic regression with L2 penalty (C must be positive, smaller means more regularization)\n",
    "logreg_l2 = LogisticRegression(C=0.1, penalty='l2')\n",
    "logreg_l2.fit(X_train, y_train)\n",
    "logreg_l2.coef_\n",
    "y_pred_l2 = logreg_l2.predict(X_test)\n",
    "\n",
    "# Access accuracy\n",
    "print 'Accuracy (L2 penalty) =', metrics.accuracy_score(y_test, y_pred_l2)\n",
    "print \"ROC(L2 penalty) = \",metrics.roc_auc_score(y_test, y_pred_l2)"
   ]
  },
  {
   "cell_type": "code",
   "execution_count": 78,
   "metadata": {
    "collapsed": false
   },
   "outputs": [
    {
     "name": "stdout",
     "output_type": "stream",
     "text": [
      "Accuracy (Descision tree) = 0.624776286353\n",
      "ROC(Descision tree) =  0.557282027826\n"
     ]
    }
   ],
   "source": [
    "# Decision trees\n",
    "from sklearn import tree\n",
    "\n",
    "# Create a decision tree classifier instance (start out with a small tree for interpretability)\n",
    "ctree = tree.DecisionTreeClassifier(random_state=1, max_depth=6)\n",
    "\n",
    "# Fit the decision tree classifier\n",
    "ctree.fit(X_train, y_train)\n",
    "\n",
    "# Which features are the most important?\n",
    "ctree.feature_importances_\n",
    "\n",
    "# Make predictions on the test set\n",
    "preds = ctree.predict(X_test)\n",
    "\n",
    "# Calculate accuracy\n",
    "metrics.accuracy_score(y_test, preds)\n",
    "print 'Accuracy (Descision tree) =', metrics.accuracy_score(y_test, preds)\n",
    "\n",
    "# Make predictions on the test set using predict_proba\n",
    "probs = ctree.predict_proba(X_test)[:,1]\n",
    "\n",
    "# Calculate the AUC metric\n",
    "print \"ROC(Descision tree) = \",metrics.roc_auc_score(y_test, preds)"
   ]
  },
  {
   "cell_type": "code",
   "execution_count": 77,
   "metadata": {
    "collapsed": false
   },
   "outputs": [
    {
     "data": {
      "text/plain": [
       "0.59924989740840706"
      ]
     },
     "execution_count": 77,
     "metadata": {},
     "output_type": "execute_result"
    }
   ],
   "source": [
    "'''\n",
    "\n",
    "FINE-TUNING THE TREE\n",
    "\n",
    "'''\n",
    "from sklearn.grid_search import GridSearchCV\n",
    "\n",
    "\n",
    "# check CV score for max depth = 6\n",
    "ctree = tree.DecisionTreeClassifier(max_depth=6)\n",
    "np.mean(cross_val_score(ctree, X, y, cv=5, scoring='roc_auc'))\n",
    "\n",
    "# check CV score for max depth = 10\n",
    "#tree = tree.DecisionTreeClassifier(max_depth=10)\n",
    "#np.mean(cross_val_score(ctree, X, y, cv=5, scoring='roc_auc'))\n"
   ]
  },
  {
   "cell_type": "code",
   "execution_count": null,
   "metadata": {
    "collapsed": true
   },
   "outputs": [],
   "source": []
  }
 ],
 "metadata": {
  "kernelspec": {
   "display_name": "Python 2",
   "language": "python",
   "name": "python2"
  },
  "language_info": {
   "codemirror_mode": {
    "name": "ipython",
    "version": 2
   },
   "file_extension": ".py",
   "mimetype": "text/x-python",
   "name": "python",
   "nbconvert_exporter": "python",
   "pygments_lexer": "ipython2",
   "version": "2.7.11"
  }
 },
 "nbformat": 4,
 "nbformat_minor": 0
}
